{
 "cells": [
  {
   "cell_type": "markdown",
   "metadata": {},
   "source": [
    "## Import the Libraries"
   ]
  },
  {
   "cell_type": "code",
   "execution_count": 1,
   "metadata": {},
   "outputs": [],
   "source": [
    "import pyspark\n",
    "from pyspark.ml.classification import GBTClassifier\n",
    "from pyspark.ml.feature import StringIndexer, VectorAssembler\n",
    "from pyspark.sql import SparkSession\n",
    "from pyspark.ml import Pipeline\n",
    "from pyspark.ml.feature import StandardScaler\n",
    "from pyspark.ml.evaluation import BinaryClassificationEvaluator\n",
    "spark = SparkSession.builder.appName(\"Gradient Boosted Tree Classifier\").getOrCreate()"
   ]
  },
  {
   "cell_type": "markdown",
   "metadata": {},
   "source": [
    "##  Download the Dataset "
   ]
  },
  {
   "cell_type": "code",
   "execution_count": 2,
   "metadata": {},
   "outputs": [
    {
     "name": "stdout",
     "output_type": "stream",
     "text": [
      "Warning: Failed to set locale category LC_NUMERIC to en_IN.\n",
      "Warning: Failed to set locale category LC_TIME to en_IN.\n",
      "Warning: Failed to set locale category LC_COLLATE to en_IN.\n",
      "Warning: Failed to set locale category LC_MONETARY to en_IN.\n",
      "Warning: Failed to set locale category LC_MESSAGES to en_IN.\n",
      "--2020-06-20 23:46:00--  https://raw.githubusercontent.com/mananparasher/Spark-Datasets/master/bank_data.csv\n",
      "Resolving raw.githubusercontent.com (raw.githubusercontent.com)... 151.101.124.133\n",
      "Connecting to raw.githubusercontent.com (raw.githubusercontent.com)|151.101.124.133|:443... connected.\n",
      "HTTP request sent, awaiting response... 200 OK\n",
      "Length: 918960 (897K) [text/plain]\n",
      "Saving to: ‘bank_data.csv.1’\n",
      "\n",
      "bank_data.csv.1     100%[===================>] 897.42K  1.57MB/s    in 0.6s    \n",
      "\n",
      "2020-06-20 23:46:00 (1.57 MB/s) - ‘bank_data.csv.1’ saved [918960/918960]\n",
      "\n"
     ]
    }
   ],
   "source": [
    "!wget https://raw.githubusercontent.com/mananparasher/Spark-Datasets/master/bank_data.csv"
   ]
  },
  {
   "cell_type": "markdown",
   "metadata": {},
   "source": [
    "## Load the Data in Spark DataFrame "
   ]
  },
  {
   "cell_type": "code",
   "execution_count": 2,
   "metadata": {},
   "outputs": [
    {
     "name": "stdout",
     "output_type": "stream",
     "text": [
      "root\n",
      " |-- age: integer (nullable = true)\n",
      " |-- job: string (nullable = true)\n",
      " |-- marital: string (nullable = true)\n",
      " |-- education: string (nullable = true)\n",
      " |-- default: string (nullable = true)\n",
      " |-- balance: integer (nullable = true)\n",
      " |-- housing: string (nullable = true)\n",
      " |-- loan: string (nullable = true)\n",
      " |-- contact: string (nullable = true)\n",
      " |-- day: integer (nullable = true)\n",
      " |-- month: string (nullable = true)\n",
      " |-- duration: integer (nullable = true)\n",
      " |-- campaign: integer (nullable = true)\n",
      " |-- pdays: integer (nullable = true)\n",
      " |-- previous: integer (nullable = true)\n",
      " |-- poutcome: string (nullable = true)\n",
      " |-- deposit: string (nullable = true)\n",
      "\n"
     ]
    }
   ],
   "source": [
    "df = spark.read.csv('bank_data.csv', header = True, inferSchema = True)\n",
    "df.printSchema()"
   ]
  },
  {
   "cell_type": "markdown",
   "metadata": {},
   "source": [
    "## Data Processing for Machine Learning Model"
   ]
  },
  {
   "cell_type": "code",
   "execution_count": 3,
   "metadata": {},
   "outputs": [],
   "source": [
    "pipeline_stages=[]\n",
    "categorical_columns = ['job', 'marital', 'education', 'default', 'housing', 'loan', 'contact', 'poutcome']\n",
    "for value in categorical_columns:\n",
    "    string_indexer = StringIndexer(inputCol=value, outputCol=value+\"indexer\")\n",
    "    pipeline_stages += [string_indexer]\n",
    "    \n",
    "target_column = StringIndexer(inputCol = 'deposit', outputCol = 'label')\n",
    "pipeline_stages += [target_column]\n",
    "\n",
    "numerical_columns = ['age', 'balance', 'duration', 'campaign', 'pdays', 'previous']\n",
    "combined_columns = [columns + \"indexer\" for columns in categorical_columns] + numerical_columns\n",
    "\n",
    "vector_assembler = VectorAssembler(inputCols=combined_columns, outputCol=\"features\")\n",
    "pipeline_stages += [vector_assembler]"
   ]
  },
  {
   "cell_type": "code",
   "execution_count": 4,
   "metadata": {},
   "outputs": [
    {
     "data": {
      "text/plain": [
       "[StringIndexer_49c88743a157ae1ef1c6,\n",
       " StringIndexer_45669e08de7f584b3647,\n",
       " StringIndexer_45f8b73b82257d6af515,\n",
       " StringIndexer_4c909de6bf56c2f849c0,\n",
       " StringIndexer_43539a11ce02fe8daaf6,\n",
       " StringIndexer_47b5b9445e742f879e30,\n",
       " StringIndexer_4470b0b1e94450033040,\n",
       " StringIndexer_4c798817b64666f9e8a3,\n",
       " StringIndexer_4921894900c8f9e0c18c,\n",
       " VectorAssembler_4087a8ec1215aa374047]"
      ]
     },
     "execution_count": 4,
     "metadata": {},
     "output_type": "execute_result"
    }
   ],
   "source": [
    "pipeline_stages"
   ]
  },
  {
   "cell_type": "code",
   "execution_count": 5,
   "metadata": {},
   "outputs": [
    {
     "name": "stdout",
     "output_type": "stream",
     "text": [
      "root\n",
      " |-- features: vector (nullable = true)\n",
      " |-- label: double (nullable = false)\n",
      "\n"
     ]
    }
   ],
   "source": [
    "pipeline = Pipeline(stages = pipeline_stages)\n",
    "pipeline_fit = pipeline.fit(df).transform(df)\n",
    "df = pipeline_fit.select([\"features\",\"label\"])\n",
    "df.printSchema()"
   ]
  },
  {
   "cell_type": "markdown",
   "metadata": {},
   "source": [
    "##  Data Splitting "
   ]
  },
  {
   "cell_type": "code",
   "execution_count": 6,
   "metadata": {},
   "outputs": [
    {
     "name": "stdout",
     "output_type": "stream",
     "text": [
      "Training Dataset Count: 10056\n",
      "Test Dataset Count: 1106\n"
     ]
    }
   ],
   "source": [
    "training_data, testing_data = df.randomSplit([0.9, 0.1])\n",
    "print(\"Training Dataset Count: \" + str(training_data.count()))\n",
    "print(\"Test Dataset Count: \" + str(testing_data.count()))"
   ]
  },
  {
   "cell_type": "markdown",
   "metadata": {},
   "source": [
    "## Model Implementation and Fitting "
   ]
  },
  {
   "cell_type": "code",
   "execution_count": 7,
   "metadata": {},
   "outputs": [
    {
     "data": {
      "text/plain": [
       "GBTClassificationModel (uid=GBTClassifier_463284b24035ba6c57b9) with 10 trees"
      ]
     },
     "execution_count": 7,
     "metadata": {},
     "output_type": "execute_result"
    }
   ],
   "source": [
    "gbtclassifier = GBTClassifier(featuresCol = 'features', labelCol = 'label', maxIter = 10)\n",
    "model = gbtclassifier.fit(training_data)\n",
    "model"
   ]
  },
  {
   "cell_type": "markdown",
   "metadata": {},
   "source": [
    "## Model Prediction  "
   ]
  },
  {
   "cell_type": "code",
   "execution_count": 8,
   "metadata": {},
   "outputs": [
    {
     "name": "stdout",
     "output_type": "stream",
     "text": [
      "+--------------------+----------+-----+\n",
      "|            features|prediction|label|\n",
      "+--------------------+----------+-----+\n",
      "|(14,[0,1,2,4,8,10...|       0.0|  0.0|\n",
      "|(14,[0,1,2,4,8,10...|       0.0|  0.0|\n",
      "|(14,[0,1,2,4,8,10...|       0.0|  1.0|\n",
      "|(14,[0,1,2,4,8,10...|       0.0|  0.0|\n",
      "|(14,[0,1,2,6,8,10...|       1.0|  1.0|\n",
      "|(14,[0,1,2,8,9,10...|       1.0|  1.0|\n",
      "|(14,[0,1,2,8,9,10...|       1.0|  1.0|\n",
      "|(14,[0,1,2,8,9,10...|       0.0|  1.0|\n",
      "|(14,[0,1,2,8,9,10...|       0.0|  1.0|\n",
      "|(14,[0,1,2,8,9,10...|       0.0|  1.0|\n",
      "+--------------------+----------+-----+\n",
      "only showing top 10 rows\n",
      "\n"
     ]
    }
   ],
   "source": [
    "predictions = model.transform(testing_data)\n",
    "predictions.select(\"features\",\"prediction\",\"label\").show(10)"
   ]
  },
  {
   "cell_type": "markdown",
   "metadata": {},
   "source": [
    "## Model Evaluation"
   ]
  },
  {
   "cell_type": "code",
   "execution_count": 12,
   "metadata": {},
   "outputs": [
    {
     "name": "stdout",
     "output_type": "stream",
     "text": [
      "Test Area Under ROC: 0.8792857424027731\n"
     ]
    }
   ],
   "source": [
    "gbtclassifierevaluator = BinaryClassificationEvaluator()\n",
    "print(\"Test Area Under ROC: \" + str(gbtclassifierevaluator.evaluate(predictions, {gbtclassifierevaluator.metricName: \"areaUnderROC\"})))"
   ]
  }
 ],
 "metadata": {
  "kernelspec": {
   "display_name": "Python 3",
   "language": "python",
   "name": "python3"
  },
  "language_info": {
   "codemirror_mode": {
    "name": "ipython",
    "version": 3
   },
   "file_extension": ".py",
   "mimetype": "text/x-python",
   "name": "python",
   "nbconvert_exporter": "python",
   "pygments_lexer": "ipython3",
   "version": "3.7.4"
  }
 },
 "nbformat": 4,
 "nbformat_minor": 2
}
